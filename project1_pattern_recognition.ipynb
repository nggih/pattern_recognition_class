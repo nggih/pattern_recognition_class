{
 "cells": [
  {
   "cell_type": "code",
   "execution_count": 2,
   "metadata": {
    "collapsed": true
   },
   "outputs": [],
   "source": [
    "import numpy as np\n",
    "\n",
    "#dataset_name = 'data_set' + letter + '.dat'\"\n",
    "data = np.loadtxt( 'data_setA.dat' )"
   ]
  },
  {
   "cell_type": "code",
   "execution_count": 3,
   "metadata": {
    "collapsed": true
   },
   "outputs": [],
   "source": [
    "# i be the row index which increased from bottom to top of each character.\n",
    "# j be the column index which increased from left to right of the character."
   ]
  },
  {
   "cell_type": "code",
   "execution_count": 7,
   "metadata": {},
   "outputs": [
    {
     "data": {
      "text/plain": [
       "<matplotlib.image.AxesImage at 0x222b9c00a90>"
      ]
     },
     "execution_count": 7,
     "metadata": {},
     "output_type": "execute_result"
    },
    {
     "data": {
      "image/png": "[encoded data removed]",
      "text/plain": [
       "<matplotlib.figure.Figure at 0x222b9dcd940>"
      ]
     },
     "metadata": {},
     "output_type": "display_data"
    }
   ],
   "source": [
    "import matplotlib.pyplot as plt\n",
    "%matplotlib inline\n",
    "pattern = data[0:25]\n",
    "pattern = np.flipud(pattern)\n",
    "# Matplotlib imshow to mapping the 0 and 1 into black and white pattern in the image, respectively.\n",
    "plt.imshow(pattern, cmap='gray', interpolation='nearest')\n"
   ]
  },
  {
   "cell_type": "code",
   "execution_count": 8,
   "metadata": {
    "collapsed": true
   },
   "outputs": [],
   "source": [
    "def index_title(printing=False):\n",
    "    characters = ['a', 'c', 'e', 'm', 'n', 'o', 'r', 's', 'x', 'z']\n",
    "    indexes = []\n",
    "    for char in characters:\n",
    "        for i in range(1, 10+1):\n",
    "            index = char + str(i)\n",
    "            indexes.append(index)\n",
    "        if printing==True:\n",
    "            indexes.append('mean(' + char +')')\n",
    "            indexes.append('var(' + char + ')')\n",
    "\n",
    "    #print(indexes)\n",
    "    row_names = np.array(indexes)\n",
    "    row_names = pd.DataFrame(row_names)\n",
    "    return characters, list(row_names[0])"
   ]
  },
  {
   "cell_type": "code",
   "execution_count": 9,
   "metadata": {
    "collapsed": true
   },
   "outputs": [],
   "source": [
    "import math\n",
    "import numpy as np\n",
    "import pandas as pd\n",
    "\n",
    "\n",
    "I = [i for i in range(1,25+1)] # An array containing indexes in one of column\n",
    "J = [i for i in range(1,35+1)] # An array containing indexes in one of row\n",
    "#print(col, row)\n",
    "\n",
    "def centroid(init, last, data):\n",
    "    pattern = data[init:last]\n",
    "    pattern = np.flipud(pattern)\n",
    "    sum_sum_Xij = np.sum(pattern)\n",
    "    sum_sum_Xij_times_i = sum(np.dot(pattern.T, I))\n",
    "    sum_sum_Xij_times_j = sum(np.dot(pattern, J))\n",
    "    \n",
    "    imean = sum_sum_Xij_times_i/sum_sum_Xij\n",
    "    jmean = sum_sum_Xij_times_j/sum_sum_Xij\n",
    "    \n",
    "    return pattern, imean, jmean\n",
    "\n",
    "def mpq(pattern, imean, jmean, p, q):\n",
    "    # The (p,q)th Central Moment of a pattern X is:\n",
    "    i_part = (I-imean)**p\n",
    "    i_part = np.reshape(i_part, (25,1))\n",
    "    \n",
    "    j_part = (J-jmean)**q\n",
    "    j_part = np.reshape(j_part, (35, 1))\n",
    "    \n",
    "    step = pattern * i_part\n",
    "    Mpq = np.sum(np.dot(step, j_part))\n",
    "    #Mpq = step * j_part\n",
    "    return float(Mpq)\n",
    "'''\n",
    "def mpq(pattern, imean, jmean, p, q):\n",
    "    # The (p,q)th Central Moment of a pattern X is:\n",
    "    total = 0\n",
    "    for i in range(len(I)):\n",
    "        for j in range(len(J)):\n",
    "            total += (I[i] - imean)**p * (J[j] - jmean)**q * pattern[i][j]\n",
    "    \n",
    "    return total\n",
    "'''\n",
    "\n",
    "p = [0,0,1,2,0,1,2,3]\n",
    "q = [0,2,1,0,3,2,1,0]\n",
    "\n",
    "# Root mean square function.\n",
    "def rms(df):\n",
    "    df = np.array(df) **2\n",
    "    rms = np.sqrt(np.mean(df))\n",
    "    return rms\n",
    "\n",
    "def all_rms(p, q, data):\n",
    "    moments = [] # Moments of 100 samples\n",
    "    overall_rms = []\n",
    "    M = []\n",
    "    mean = []\n",
    "    var = []\n",
    "    \n",
    "    for index_p, index_q in zip(p,q):\n",
    "        column_names = \"M\" + str(index_p) + str(index_q)\n",
    "        M.append(column_names)\n",
    "        \n",
    "        central_moments = []\n",
    "\n",
    "        init = 0\n",
    "        last = 25\n",
    "        counter = 0\n",
    "    \n",
    "        while last <= len(data):\n",
    "            \n",
    "            pattern, imean, jmean = centroid(init,last, data)\n",
    "            Mpq = mpq(pattern, imean, jmean, index_p, index_q)\n",
    "            central_moments.append(Mpq)\n",
    "    \n",
    "            # Put mean and var of the normalized central moments here\n",
    "            \n",
    "            # Direct answer for the variance in the set of means.\n",
    "            #np.var already divides by N rather than N-1\n",
    "            \n",
    "            # Break point. It's time to stop.\n",
    "            init += 25\n",
    "            last += 25\n",
    "            \n",
    "        # 100 central_moments will be divided into 10\n",
    "        \n",
    "        RMS = rms(central_moments)\n",
    "        moments.append(central_moments/RMS)\n",
    "        \n",
    "        overall_rms.append(RMS)\n",
    "       \n",
    "        # Clearing\n",
    "        central_moments = []\n",
    "        \n",
    "    return M, pd.DataFrame(moments), overall_rms"
   ]
  },
  {
   "cell_type": "code",
   "execution_count": 10,
   "metadata": {
    "collapsed": true
   },
   "outputs": [],
   "source": [
    "def mean_and_var(Mpq, central_moments):\n",
    "    k = 0\n",
    "    l = 10\n",
    "    all_means = []\n",
    "    all_var = []\n",
    "    central_moments.columns = Mpq\n",
    "    while l <= 100:\n",
    "        target = central_moments[k:l]\n",
    "        means = []\n",
    "        var = []\n",
    "        for i in Mpq:\n",
    "            element_mean = np.mean(target[i])\n",
    "            # Direct answer for the variance in the set of means.\n",
    "            element_var = np.var(target[i]) #np.var already divides by N rather than N-1\n",
    "            means.append(element_mean)\n",
    "            var.append(element_var)\n",
    "        all_means.append(means)\n",
    "        all_var.append(var)\n",
    "        means = []\n",
    "        var = []\n",
    "        k += 10\n",
    "        l += 10\n",
    "\n",
    "    #print(\"mean\", all_means)\n",
    "    #print(\"var\", all_var)\n",
    "\n",
    "    mean_df = np.array(all_means)\n",
    "    mean_df = pd.DataFrame(mean_df)\n",
    "\n",
    "    var_df = np.array(all_var)\n",
    "    var_df = pd.DataFrame(var_df)\n",
    "    \n",
    "    return mean_df, var_df"
   ]
  },
  {
   "cell_type": "code",
   "execution_count": 11,
   "metadata": {
    "collapsed": true,
    "scrolled": false
   },
   "outputs": [],
   "source": [
    "def indexing_nms(data):\n",
    "    Mpq, moments, overall_rms = all_rms(p,q,data)\n",
    "    normalized_cm = moments.transpose()\n",
    "\n",
    "    mean_df, var_df = mean_and_var(Mpq, normalized_cm)\n",
    "    mean_df.columns = Mpq\n",
    "    var_df.columns = Mpq\n",
    "    characters, indexes = index_title()\n",
    "\n",
    "    title_add = []\n",
    "    for i in range(len(mean_df)):\n",
    "        normalized_cm = pd.concat([normalized_cm, mean_df.loc[[i]]])\n",
    "        normalized_cm = pd.concat([normalized_cm, var_df.loc[[i]]])\n",
    "        title_add.append('mean('+ characters[i]+')')\n",
    "        title_add.append('var('+ characters[i]+')')\n",
    "\n",
    "    overall_rms = pd.DataFrame(overall_rms).T\n",
    "    overall_rms.columns = Mpq\n",
    "    normalized_cm = pd.concat([normalized_cm, overall_rms.loc[[0]]])\n",
    "\n",
    "    new_indexes = indexes + title_add + ['overall_rms']\n",
    "    \n",
    "    normalized_cm.index = new_indexes\n",
    "    print('Indexing finished, generate normalized central moments')\n",
    "    return normalized_cm, mean_df, var_df, overall_rms\n"
   ]
  },
  {
   "cell_type": "code",
   "execution_count": 12,
   "metadata": {
    "collapsed": true
   },
   "outputs": [],
   "source": [
    "def cov(X0):\n",
    "    X = X0 - X0.mean(axis=0)\n",
    "    N = X.shape[0]                # !!!# Divide by N\n",
    "    covariance = np.dot(X.T, X)/N\n",
    "    return covariance # !!!"
   ]
  },
  {
   "cell_type": "code",
   "execution_count": 13,
   "metadata": {
    "collapsed": true
   },
   "outputs": [],
   "source": [
    "def ncm_to_report(csv_file, normalized_data, mean_df, var_df, overall_rms):\n",
    "    mean_df = mean_df\n",
    "    var_df = var_df\n",
    "    overall_rms = overall_rms\n",
    "    letters = ['a', 'c', 'e', 'm', 'n', 'o', 'r', 's', 'x', 'z']\n",
    "    for i in range(0,10):\n",
    "        init=i * 10\n",
    "        last = init+10\n",
    "        \n",
    "        ncm = pd.DataFrame(normalized_data[init:last])\n",
    "        ncm.to_csv(csv_file, mode='a', float_format='%.3f')\n",
    "        \n",
    "        mean_target = mean_df.iloc[[i]]\n",
    "        mean_target.index = ['mean(' + letters[i] + ')']\n",
    "        mean_target.to_csv(csv_file, mode='a', header=None, float_format='%.3f')\n",
    "        \n",
    "        var_target = var_df.iloc[[i]]\n",
    "        var_target.index = ['var(' + letters[i] + ')']\n",
    "        var_target.to_csv(csv_file, mode='a', header=None, float_format='%.3f')\n",
    "    \n",
    "    overall_rms.index = ['Overall RMS']\n",
    "    overall_rms.to_csv(csv_file, mode='a')\n",
    "    \n",
    "    line_break = pd.DataFrame([\" \"])\n",
    "    line_break.to_csv(csv_file, mode='a', header=None, index=None)\n",
    "    \n",
    "    print(\"Ncm is written to %s\" %csv_file)"
   ]
  },
  {
   "cell_type": "code",
   "execution_count": 14,
   "metadata": {
    "collapsed": true
   },
   "outputs": [],
   "source": [
    "def cov_inv_to_report(csv_file, normalized_data, dataset_name):\n",
    "    from numpy.linalg import inv\n",
    "    letters = ['a', 'c', 'e', 'm', 'n', 'o', 'r', 's', 'x', 'z']\n",
    "    line_break = pd.DataFrame([\" \"])\n",
    "    # To name the index as Inverse-Cov-Dataset-nth or Cov-Dataset-nth\n",
    "    def index_title(mode, dataset_name, letter):\n",
    "        title = ''\n",
    "        if mode == \"inverse\":\n",
    "            title = 'Inverse-Cov-Dataset-' + dataset_name + '-'+ letter\n",
    "        else:\n",
    "            title = 'Cov-Dataset-' + dataset_name + '-' + letter\n",
    "        the_title = [title] + [' ' for i in range(7)]\n",
    "        return the_title\n",
    "    \n",
    "    saved_cov = np.zeros(8) \n",
    "    \n",
    "    # Running through the Covariance\n",
    "    for i in range(0,10):\n",
    "        init=i * 10\n",
    "        last = init+10\n",
    "        cov_letter = cov(normalized_data[init:last])\n",
    "        saved_cov = np.add(saved_cov,cov_letter)\n",
    "        cov_a = pd.DataFrame(cov_letter)\n",
    "        cov_a.index = index_title(\"cov\", dataset_name, letters[i])\n",
    "        cov_a.to_csv(csv_file, mode='a', header=None, float_format='%.5f')\n",
    "   \n",
    "        line_break.to_csv(csv_file, mode='a', header=None, index=None)\n",
    "        \n",
    "    # Running through the Inverse of the Covariance\n",
    "    for i in range(0,10):\n",
    "        init=i * 10\n",
    "        last = init+10\n",
    "        inv_letter = inv(cov(normalized_data[init:last]))\n",
    "        inv_a = pd.DataFrame(inv_letter)\n",
    "        inv_a.index = index_title(\"inverse\", dataset_name, letters[i])\n",
    "        inv_a.to_csv(csv_file, mode='a', header=None, float_format='%.5f')\n",
    "        line_break.to_csv(csv_file, mode='a', header=None, index=None)\n",
    "    \n",
    "    average_cov = saved_cov/10\n",
    "    average_cov_inversed = inv(average_cov)\n",
    "    \n",
    "    average_cov = pd.DataFrame(average_cov)\n",
    "    average_cov.index = ['Cov-Dataset-'+dataset_name] + [' ' for i in range(7)]\n",
    "    average_cov.to_csv(csv_file, mode='a', header=None, float_format='%.6f')\n",
    "    \n",
    "    line_break.to_csv(csv_file, mode='a', header=None, index=None)\n",
    "    \n",
    "    average_cov_inversed = pd.DataFrame(average_cov_inversed)\n",
    "    average_cov_inversed.index = ['Inverse-Cov-Dataset-'+dataset_name] + [' ' for i in range(7)]\n",
    "    average_cov_inversed.to_csv(csv_file, mode='a', header=None, float_format='%.6f')\n",
    "    \n",
    "    print('Covariance and its Inverse are written to %s!' % csv_file)\n",
    "\n",
    "        \n"
   ]
  },
  {
   "cell_type": "code",
   "execution_count": 18,
   "metadata": {
    "collapsed": true
   },
   "outputs": [],
   "source": [
    "def all_reports(adding_suffix):\n",
    "    list_datasets = ['A', 'B', 'C', 'D']\n",
    "\n",
    "    for i in range(len(list_datasets)):\n",
    "        letter = list_datasets[i]\n",
    "        label = 'data_set' + letter\n",
    "        dataset = label +'.dat'\n",
    "        data = np.loadtxt(dataset)\n",
    "        normalized_cm, mean_df, var_df, overall_rms = indexing_nms(data)\n",
    "\n",
    "        label = label + adding_suffix\n",
    "        ncm_to_report(label, normalized_cm, mean_df, var_df, overall_rms)\n",
    "\n",
    "        cov_inv_to_report(label, normalized_cm, letter)  "
   ]
  },
  {
   "cell_type": "code",
   "execution_count": 19,
   "metadata": {},
   "outputs": [
    {
     "name": "stdout",
     "output_type": "stream",
     "text": [
      "Indexing finished, generate normalized central moments\n",
      "Ncm is written to data_setA_revised_report.csv\n",
      "Covariance and its Inverse are written to data_setA_revised_report.csv!\n",
      "Indexing finished, generate normalized central moments\n",
      "Ncm is written to data_setB_revised_report.csv\n",
      "Covariance and its Inverse are written to data_setB_revised_report.csv!\n",
      "Indexing finished, generate normalized central moments\n",
      "Ncm is written to data_setC_revised_report.csv\n",
      "Covariance and its Inverse are written to data_setC_revised_report.csv!\n",
      "Indexing finished, generate normalized central moments\n",
      "Ncm is written to data_setD_revised_report.csv\n",
      "Covariance and its Inverse are written to data_setD_revised_report.csv!\n",
      "None\n"
     ]
    }
   ],
   "source": [
    "print(all_reports('_revised_report.csv'))"
   ]
  },
  {
   "cell_type": "code",
   "execution_count": null,
   "metadata": {
    "collapsed": true
   },
   "outputs": [],
   "source": []
  },
  {
   "cell_type": "code",
   "execution_count": null,
   "metadata": {
    "collapsed": true
   },
   "outputs": [],
   "source": []
  },
  {
   "cell_type": "code",
   "execution_count": null,
   "metadata": {
    "collapsed": true
   },
   "outputs": [],
   "source": []
  }
 ],
 "metadata": {
  "kernelspec": {
   "display_name": "Python 3",
   "language": "python",
   "name": "python3"
  },
  "language_info": {
   "codemirror_mode": {
    "name": "ipython",
    "version": 3
   },
   "file_extension": ".py",
   "mimetype": "text/x-python",
   "name": "python",
   "nbconvert_exporter": "python",
   "pygments_lexer": "ipython3",
   "version": "3.5.4"
  }
 },
 "nbformat": 4,
 "nbformat_minor": 2
}
